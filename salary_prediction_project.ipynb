{
  "cells": [
    {
      "cell_type": "markdown",
      "metadata": {
        "id": "_oqt6MHFgb7O"
      },
      "source": [
        "# salary prediction project"
      ]
    },
    {
      "cell_type": "code",
      "execution_count": null,
      "metadata": {
        "id": "pXWSPRoqgb7Y"
      },
      "outputs": [],
      "source": [
        "import pandas as pd\n",
        "import numpy as np\n",
        "import matplotlib.pyplot as plt"
      ]
    },
    {
      "cell_type": "code",
      "execution_count": null,
      "metadata": {
        "colab": {
          "base_uri": "https://localhost:8080/",
          "height": 363
        },
        "id": "vglwPVkAgb7c",
        "outputId": "049d87bd-e2da-4e25-be6e-be14a881688c"
      },
      "outputs": [],
      "source": [
        "dataset = pd.read_csv('Salary_Data.csv')\n",
        "dataset.head(10)"
      ]
    },
    {
      "cell_type": "code",
      "execution_count": null,
      "metadata": {
        "colab": {
          "base_uri": "https://localhost:8080/"
        },
        "id": "MEUhwHXDgb7d",
        "outputId": "7c4f05a4-378a-4e0c-8a80-dd92dbf1f0a5"
      },
      "outputs": [],
      "source": [
        "dataset.shape"
      ]
    },
    {
      "cell_type": "code",
      "execution_count": null,
      "metadata": {
        "colab": {
          "base_uri": "https://localhost:8080/"
        },
        "id": "A78ckD4Wgb7e",
        "outputId": "b5fa0bfd-a02a-4804-8674-92b72a9e0847"
      },
      "outputs": [],
      "source": [
        "dataset.info()"
      ]
    },
    {
      "cell_type": "code",
      "execution_count": null,
      "metadata": {
        "colab": {
          "base_uri": "https://localhost:8080/",
          "height": 300
        },
        "id": "-g0e-xjGgb7f",
        "outputId": "d97d39c5-4711-4f8b-eb12-7eb29d3bb7e2"
      },
      "outputs": [],
      "source": [
        "dataset.describe()"
      ]
    },
    {
      "cell_type": "code",
      "execution_count": null,
      "metadata": {
        "colab": {
          "base_uri": "https://localhost:8080/"
        },
        "id": "b9peiWCRgb7g",
        "outputId": "dde1529f-9705-4ada-aca6-662d26fbf1eb"
      },
      "outputs": [],
      "source": [
        "dataset.corr"
      ]
    },
    {
      "cell_type": "code",
      "execution_count": null,
      "metadata": {
        "colab": {
          "base_uri": "https://localhost:8080/",
          "height": 296
        },
        "id": "UatoCUbjgb7h",
        "outputId": "3e673fe4-e9b9-47af-88f6-a955b1a61130"
      },
      "outputs": [],
      "source": [
        "plt.scatter(dataset['YearsExperience'],dataset['Salary'])\n",
        "plt.xlabel('Years of Experience')\n",
        "plt.ylabel('Salary')\n",
        "plt.show"
      ]
    },
    {
      "cell_type": "code",
      "execution_count": null,
      "metadata": {
        "id": "VH3MxVjcgb7i"
      },
      "outputs": [],
      "source": [
        "X = dataset.iloc[:,:-1].values\n",
        "y=dataset.iloc[:,-1].values"
      ]
    },
    {
      "cell_type": "code",
      "execution_count": null,
      "metadata": {
        "colab": {
          "base_uri": "https://localhost:8080/"
        },
        "id": "ZM2XRG4Qgb7j",
        "outputId": "a45c1aa9-c9ff-4380-d8fb-9a66b57c7ff4"
      },
      "outputs": [],
      "source": [
        "X"
      ]
    },
    {
      "cell_type": "code",
      "execution_count": null,
      "metadata": {
        "colab": {
          "base_uri": "https://localhost:8080/"
        },
        "id": "sMQm95hygb7k",
        "outputId": "3c46acd4-fb3a-4dd0-9eb2-73bf9e64a128"
      },
      "outputs": [],
      "source": [
        "y"
      ]
    },
    {
      "cell_type": "code",
      "execution_count": null,
      "metadata": {
        "id": "6_KqwQuPgb7l"
      },
      "outputs": [],
      "source": [
        "from sklearn.model_selection import train_test_split"
      ]
    },
    {
      "cell_type": "code",
      "execution_count": null,
      "metadata": {
        "id": "t5-MZO_Wgb7l"
      },
      "outputs": [],
      "source": [
        "X_train,X_test,y_train,y_test=train_test_split(X,y,test_size=1/3,random_state=101)"
      ]
    },
    {
      "cell_type": "code",
      "execution_count": null,
      "metadata": {
        "colab": {
          "base_uri": "https://localhost:8080/"
        },
        "id": "XtT6ZqO8gb7m",
        "outputId": "be6959e4-435b-46f6-8a23-cdfa3bd8e6d4"
      },
      "outputs": [],
      "source": [
        "X_train"
      ]
    },
    {
      "cell_type": "code",
      "execution_count": null,
      "metadata": {
        "colab": {
          "base_uri": "https://localhost:8080/"
        },
        "id": "zN6r4-bIgb7m",
        "outputId": "028a352e-c975-47bf-ba76-f14eca55d33f"
      },
      "outputs": [],
      "source": [
        "X_test"
      ]
    },
    {
      "cell_type": "code",
      "execution_count": null,
      "metadata": {
        "colab": {
          "base_uri": "https://localhost:8080/"
        },
        "id": "7Nhd6HSLgb7n",
        "outputId": "704ad019-e3ba-45cf-f4cf-3133219a7e79"
      },
      "outputs": [],
      "source": [
        "y_train"
      ]
    },
    {
      "cell_type": "code",
      "execution_count": null,
      "metadata": {
        "colab": {
          "base_uri": "https://localhost:8080/"
        },
        "id": "tfTmSe44gb7o",
        "outputId": "88e0e469-5d02-43c2-c641-53604e61565d"
      },
      "outputs": [],
      "source": [
        "y_test"
      ]
    },
    {
      "cell_type": "markdown",
      "metadata": {
        "id": "YYEB2Ml2gb7p"
      },
      "source": [
        "# Linear Regression"
      ]
    },
    {
      "cell_type": "code",
      "execution_count": null,
      "metadata": {
        "id": "DeOD35Ktgb7p"
      },
      "outputs": [],
      "source": [
        "from sklearn.linear_model import LinearRegression\n",
        "LR=LinearRegression()"
      ]
    },
    {
      "cell_type": "code",
      "execution_count": null,
      "metadata": {
        "colab": {
          "base_uri": "https://localhost:8080/"
        },
        "id": "IHL_u3wdglbY",
        "outputId": "72ecb12d-9b0f-46f3-9550-4217a2d2d632"
      },
      "outputs": [],
      "source": [
        "LR.fit(X_train,y_train)"
      ]
    },
    {
      "cell_type": "code",
      "execution_count": null,
      "metadata": {
        "id": "qfyBXo6vgb7q"
      },
      "outputs": [],
      "source": [
        "y_pred_LR=LR.predict(X_test)"
      ]
    },
    {
      "cell_type": "code",
      "execution_count": null,
      "metadata": {
        "colab": {
          "base_uri": "https://localhost:8080/"
        },
        "id": "lFIKcy90gb7q",
        "outputId": "810c0b02-7b2b-4b8f-a5f7-64fe2ee28829"
      },
      "outputs": [],
      "source": [
        "X_test"
      ]
    },
    {
      "cell_type": "code",
      "execution_count": null,
      "metadata": {
        "colab": {
          "base_uri": "https://localhost:8080/"
        },
        "id": "jCZ12zccgb7r",
        "outputId": "ed669ba9-1054-4528-d4fc-f46750f93035"
      },
      "outputs": [],
      "source": [
        "y_test"
      ]
    },
    {
      "cell_type": "code",
      "execution_count": null,
      "metadata": {
        "id": "IiV4Y2Smgb7r"
      },
      "outputs": [],
      "source": [
        "y_pred_LR=LR.predict(X_test)"
      ]
    },
    {
      "cell_type": "code",
      "execution_count": null,
      "metadata": {
        "colab": {
          "base_uri": "https://localhost:8080/"
        },
        "id": "PZqk918zgb7s",
        "outputId": "0aa927e2-42cf-47af-f965-8984915a1c85"
      },
      "outputs": [],
      "source": [
        "diff_LR=y_test-y_pred_LR\n",
        "diff_LR"
      ]
    },
    {
      "cell_type": "code",
      "execution_count": null,
      "metadata": {
        "id": "xc2C-uz-gb7t"
      },
      "outputs": [],
      "source": [
        "res_df=pd.concat([pd.Series(y_pred_LR),pd.Series(y_test),pd.Series(diff_LR)],axis=1)\n",
        "res_df.columns=['Prediction','Original Data','Diff']"
      ]
    },
    {
      "cell_type": "code",
      "execution_count": null,
      "metadata": {
        "colab": {
          "base_uri": "https://localhost:8080/",
          "height": 363
        },
        "id": "g3bREhaggb7t",
        "outputId": "f99c4ddd-1c3f-4bdb-c2be-46b0ba2942b8"
      },
      "outputs": [],
      "source": [
        "res_df"
      ]
    },
    {
      "cell_type": "code",
      "execution_count": null,
      "metadata": {
        "colab": {
          "base_uri": "https://localhost:8080/",
          "height": 295
        },
        "id": "A9Hsrp9pgb7u",
        "outputId": "4e622657-43e4-4804-90b6-1bb0cae7f5c1"
      },
      "outputs": [],
      "source": [
        "plt.scatter(X_train,y_train,color='red')\n",
        "plt.plot(X_train,LR.predict(X_train),color='blue')\n",
        "plt.title('Salary vs Experience')\n",
        "plt.xlabel('Years of Experience')\n",
        "plt.ylabel(\"Salary\")\n",
        "plt.show()"
      ]
    },
    {
      "cell_type": "markdown",
      "metadata": {
        "id": "nMkzs2Y_gb7v"
      },
      "source": [
        "# Matrics"
      ]
    },
    {
      "cell_type": "code",
      "execution_count": null,
      "metadata": {
        "id": "zOTn3rLSgb7v"
      },
      "outputs": [],
      "source": [
        "from sklearn import metrics\n",
        "rmse= np.sqrt(metrics.mean_squared_error(y_test,y_pred_LR))\n",
        "R2=metrics.r2_score(y_test,y_pred_LR)"
      ]
    },
    {
      "cell_type": "code",
      "execution_count": null,
      "metadata": {
        "colab": {
          "base_uri": "https://localhost:8080/"
        },
        "id": "pACXqtG-gb7w",
        "outputId": "677756ed-0f0d-4227-86d2-d09b28cd18c5"
      },
      "outputs": [],
      "source": [
        "rmse"
      ]
    },
    {
      "cell_type": "code",
      "execution_count": null,
      "metadata": {
        "colab": {
          "base_uri": "https://localhost:8080/"
        },
        "id": "ibQX09Mmgb7w",
        "outputId": "7dbcdf4c-1293-42b0-b833-e5bb536debfa"
      },
      "outputs": [],
      "source": [
        "R2"
      ]
    },
    {
      "cell_type": "markdown",
      "metadata": {
        "id": "8QDYxncygb7x"
      },
      "source": [
        "# Decision Tree Regressor"
      ]
    },
    {
      "cell_type": "code",
      "execution_count": null,
      "metadata": {
        "id": "78XP6EC0gb7x"
      },
      "outputs": [],
      "source": [
        "from sklearn.tree import DecisionTreeRegressor"
      ]
    },
    {
      "cell_type": "code",
      "execution_count": null,
      "metadata": {
        "id": "8E8Q8gqkgb7y"
      },
      "outputs": [],
      "source": [
        "DT=DecisionTreeRegressor()"
      ]
    },
    {
      "cell_type": "code",
      "execution_count": null,
      "metadata": {
        "colab": {
          "base_uri": "https://localhost:8080/"
        },
        "id": "3hDts71agb7y",
        "outputId": "e11c5deb-d05c-48b2-ddf3-d8ed3c597629"
      },
      "outputs": [],
      "source": [
        "DT.fit(X_train,y_train)"
      ]
    },
    {
      "cell_type": "code",
      "execution_count": null,
      "metadata": {
        "colab": {
          "base_uri": "https://localhost:8080/"
        },
        "id": "6UO2lblngb7z",
        "outputId": "12080ba4-ae38-403f-9170-018ba456f90d"
      },
      "outputs": [],
      "source": [
        "DT.fit(X_train,y_train)"
      ]
    },
    {
      "cell_type": "code",
      "execution_count": null,
      "metadata": {
        "id": "nL6NiKf1idc9"
      },
      "outputs": [],
      "source": [
        "y_pred_dt=DT.predict(X_test)"
      ]
    },
    {
      "cell_type": "code",
      "execution_count": null,
      "metadata": {
        "colab": {
          "base_uri": "https://localhost:8080/"
        },
        "id": "dIkqW7DWgb7z",
        "outputId": "8621e3c3-17b7-4a20-b65b-7d2b89762735"
      },
      "outputs": [],
      "source": [
        "y_pred_dt"
      ]
    },
    {
      "cell_type": "code",
      "execution_count": null,
      "metadata": {
        "colab": {
          "base_uri": "https://localhost:8080/"
        },
        "id": "kmcIbwnlgb70",
        "outputId": "ab283683-214c-45c5-eeda-6cd1066bb028"
      },
      "outputs": [],
      "source": [
        "y_test"
      ]
    },
    {
      "cell_type": "code",
      "execution_count": null,
      "metadata": {
        "id": "6s1ZCor7gb70"
      },
      "outputs": [],
      "source": [
        "diff_DT=y_test-y_pred_dt"
      ]
    },
    {
      "cell_type": "code",
      "execution_count": null,
      "metadata": {
        "id": "0szEyLHXgb71"
      },
      "outputs": [],
      "source": [
        "res_dt=pd.concat([pd.Series(y_pred_dt),pd.Series(y_test),pd.Series(diff_DT)],axis=1)\n",
        "res_dt.columns=['Prediction','Original Data','Diff']"
      ]
    },
    {
      "cell_type": "code",
      "execution_count": null,
      "metadata": {
        "colab": {
          "base_uri": "https://localhost:8080/",
          "height": 363
        },
        "id": "MsxoPghbgb71",
        "outputId": "b85ae646-f875-4423-df66-436cd275ee3e"
      },
      "outputs": [],
      "source": [
        "res_dt"
      ]
    },
    {
      "cell_type": "code",
      "execution_count": null,
      "metadata": {
        "colab": {
          "base_uri": "https://localhost:8080/"
        },
        "id": "lANbbPJegb72",
        "outputId": "2dfc378a-1adf-480a-a5db-c5fe15a542db"
      },
      "outputs": [],
      "source": [
        "X_test"
      ]
    },
    {
      "cell_type": "code",
      "execution_count": null,
      "metadata": {
        "id": "cLSfk01Zgb72"
      },
      "outputs": [],
      "source": [
        "from sklearn import metrics\n",
        "rmse= np.sqrt(metrics.mean_squared_error(y_test,y_pred_dt))\n",
        "R2=metrics.r2_score(y_test,y_pred_dt)"
      ]
    },
    {
      "cell_type": "code",
      "execution_count": null,
      "metadata": {
        "colab": {
          "base_uri": "https://localhost:8080/"
        },
        "id": "IU_mk_umgb73",
        "outputId": "c7da174d-8b73-40c7-f680-2a7facce24d4"
      },
      "outputs": [],
      "source": [
        "rmse"
      ]
    },
    {
      "cell_type": "code",
      "execution_count": null,
      "metadata": {
        "colab": {
          "base_uri": "https://localhost:8080/"
        },
        "id": "rmSMgwB7gb73",
        "outputId": "a6b730bb-2088-4f18-bef8-ee23621ed7e5"
      },
      "outputs": [],
      "source": [
        "R2"
      ]
    },
    {
      "cell_type": "code",
      "execution_count": null,
      "metadata": {
        "id": "NIyfXk2Ngb74"
      },
      "outputs": [],
      "source": [
        "from sklearn import tree"
      ]
    },
    {
      "cell_type": "code",
      "execution_count": null,
      "metadata": {
        "colab": {
          "base_uri": "https://localhost:8080/"
        },
        "id": "cxbEf2Cvgb74",
        "outputId": "34d7794a-80df-495f-fbdf-c6654c408696"
      },
      "outputs": [],
      "source": [
        "text_representation=tree.export_text(DT)\n",
        "print(text_representation)"
      ]
    },
    {
      "cell_type": "code",
      "execution_count": null,
      "metadata": {
        "colab": {
          "base_uri": "https://localhost:8080/",
          "height": 1000
        },
        "id": "UX-mi9wJgb74",
        "outputId": "9deaef66-ee5c-4e28-dd46-6388c2c8ee9a"
      },
      "outputs": [],
      "source": [
        "fig=plt.figure(figsize=(25,20))\n",
        "_=tree.plot_tree(DT,feature_names=dataset['YearsExperience'],filled=True)"
      ]
    }
  ],
  "metadata": {
    "colab": {
      "collapsed_sections": [
        "nMkzs2Y_gb7v",
        "8QDYxncygb7x"
      ],
      "name": "4th_sem_project.ipynb",
      "provenance": []
    },
    "kernelspec": {
      "display_name": "Python 3.10.2 64-bit",
      "language": "python",
      "name": "python3"
    },
    "language_info": {
      "codemirror_mode": {
        "name": "ipython",
        "version": 3
      },
      "file_extension": ".py",
      "mimetype": "text/x-python",
      "name": "python",
      "nbconvert_exporter": "python",
      "pygments_lexer": "ipython3",
      "version": "3.10.2"
    },
    "vscode": {
      "interpreter": {
        "hash": "fbe58ca63fe33f9eeae9e71d10368d2b4a57f2b1b395836210cc60d362c66949"
      }
    }
  },
  "nbformat": 4,
  "nbformat_minor": 0
}
